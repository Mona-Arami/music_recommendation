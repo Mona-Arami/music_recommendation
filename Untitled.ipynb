{
 "cells": [
  {
   "cell_type": "code",
   "execution_count": 1,
   "id": "d3a9ceab",
   "metadata": {},
   "outputs": [],
   "source": [
    "path=\"https://www.pythonanywhere.com/\""
   ]
  },
  {
   "cell_type": "code",
   "execution_count": 3,
   "id": "b2fb7b04",
   "metadata": {},
   "outputs": [
    {
     "data": {
      "text/plain": [
       "['https://www', 'pythonanywhere', 'com/']"
      ]
     },
     "execution_count": 3,
     "metadata": {},
     "output_type": "execute_result"
    }
   ],
   "source": [
    "path.split('.')"
   ]
  },
  {
   "cell_type": "code",
   "execution_count": 2,
   "id": "9db44167",
   "metadata": {},
   "outputs": [
    {
     "name": "stdout",
     "output_type": "stream",
     "text": [
      "3\n"
     ]
    }
   ],
   "source": [
    "print(len(path.split('.')) )"
   ]
  },
  {
   "cell_type": "code",
   "execution_count": 6,
   "id": "961a0f76",
   "metadata": {},
   "outputs": [
    {
     "name": "stdout",
     "output_type": "stream",
     "text": [
      "False\n"
     ]
    }
   ],
   "source": [
    "if len(path.split('.')) == 1:\n",
    "    print (\"true\")\n",
    "else:\n",
    "    print(\"False\")"
   ]
  },
  {
   "cell_type": "code",
   "execution_count": null,
   "id": "2abf735d",
   "metadata": {},
   "outputs": [],
   "source": []
  }
 ],
 "metadata": {
  "kernelspec": {
   "display_name": "Python 3 (ipykernel)",
   "language": "python",
   "name": "python3"
  },
  "language_info": {
   "codemirror_mode": {
    "name": "ipython",
    "version": 3
   },
   "file_extension": ".py",
   "mimetype": "text/x-python",
   "name": "python",
   "nbconvert_exporter": "python",
   "pygments_lexer": "ipython3",
   "version": "3.7.9"
  }
 },
 "nbformat": 4,
 "nbformat_minor": 5
}
